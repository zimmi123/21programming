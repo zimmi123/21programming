{
 "cells": [
  {
   "cell_type": "code",
   "execution_count": 2,
   "metadata": {},
   "outputs": [],
   "source": [
    "from bs4 import BeautifulSoup"
   ]
  },
  {
   "cell_type": "code",
   "execution_count": 3,
   "metadata": {},
   "outputs": [],
   "source": [
    "import requests"
   ]
  },
  {
   "cell_type": "code",
   "execution_count": 4,
   "metadata": {},
   "outputs": [],
   "source": [
    "url = 'https://movie.naver.com/movie/point/af/list.nhn?&page=1'"
   ]
  },
  {
   "cell_type": "code",
   "execution_count": 6,
   "metadata": {},
   "outputs": [],
   "source": [
    "res = requests.get(url)"
   ]
  },
  {
   "cell_type": "code",
   "execution_count": 7,
   "metadata": {},
   "outputs": [],
   "source": [
    "soup=BeautifulSoup(res.text,'lxml')"
   ]
  },
  {
   "cell_type": "code",
   "execution_count": 8,
   "metadata": {},
   "outputs": [],
   "source": [
    "tds = soup.select('table.list_netizen > tbody > tr > td.title')"
   ]
  },
  {
   "cell_type": "code",
   "execution_count": 9,
   "metadata": {},
   "outputs": [
    {
     "name": "stdout",
     "output_type": "stream",
     "text": [
      "10\n"
     ]
    }
   ],
   "source": [
    "print(len(tds))"
   ]
  },
  {
   "cell_type": "code",
   "execution_count": 10,
   "metadata": {},
   "outputs": [
    {
     "data": {
      "text/plain": [
       "[<td class=\"title\">\n",
       " <a class=\"movie color_b\" href=\"?st=mcode&amp;sword=181414&amp;target=after\">어스</a>\n",
       " <div class=\"list_netizen_score\">\n",
       " <span class=\"st_off\"><span class=\"st_on\" style=\"width:20%\">별점 - 총 10점 중</span></span><em>2</em>\n",
       " </div>\n",
       " <br/>도대체무슨내용;;;; \n",
       " \t\t\t\n",
       " \t\t\t\n",
       " \t\t\t\n",
       " \t\t\t\t\n",
       " \t\t\t\t\n",
       " \t\t\t\t\n",
       " \t\t\t\t<a class=\"report\" href=\"#\" onclick=\"report('sd98****', '8T1neCygVcrqMpPr+wACP1503EsVF8uSb1OxxKFamnI=', '도대체무슨내용;;;;', '17331009', 'point_after');\" style=\"color:#8F8F8F\" title=\"새 창\">신고</a>\n",
       " </td>,\n",
       " <td class=\"title\">\n",
       " <a class=\"movie color_b\" href=\"?st=mcode&amp;sword=29756&amp;target=after\">동감</a>\n",
       " <div class=\"list_netizen_score\">\n",
       " <span class=\"st_off\"><span class=\"st_on\" style=\"width:100%\">별점 - 총 10점 중</span></span><em>10</em>\n",
       " </div>\n",
       " <br/>20년만에 다시 봐도 최고의 멜로 영화. \n",
       " \t\t\t\n",
       " \t\t\t\n",
       " \t\t\t\n",
       " \t\t\t\t\n",
       " \t\t\t\t\n",
       " \t\t\t\t\n",
       " \t\t\t\t<a class=\"report\" href=\"#\" onclick=\"report('welo****', 'CnwRcxUxFZgJrafytmOs7nbnbIkA1RjWjjBgCAaqZsE=', '20년만에 다시 봐도 최고의 멜로 영화.', '17331008', 'point_after');\" style=\"color:#8F8F8F\" title=\"새 창\">신고</a>\n",
       " </td>,\n",
       " <td class=\"title\">\n",
       " <a class=\"movie color_b\" href=\"?st=mcode&amp;sword=72043&amp;target=after\">쓰리 데이즈</a>\n",
       " <div class=\"list_netizen_score\">\n",
       " <span class=\"st_off\"><span class=\"st_on\" style=\"width:100%\">별점 - 총 10점 중</span></span><em>10</em>\n",
       " </div>\n",
       " <br/>\n",
       " <a class=\"report\" href=\"#\" onclick=\"report('law_****', 'XorITPZsqngFqas9Eh7kA1tGsjbrRo9jUV6+xCmDE9w=', '', '17331007', 'point_after');\" style=\"color:#8F8F8F\" title=\"새 창\">신고</a>\n",
       " </td>,\n",
       " <td class=\"title\">\n",
       " <a class=\"movie color_b\" href=\"?st=mcode&amp;sword=51462&amp;target=after\">그랜 토리노</a>\n",
       " <div class=\"list_netizen_score\">\n",
       " <span class=\"st_off\"><span class=\"st_on\" style=\"width:100%\">별점 - 총 10점 중</span></span><em>10</em>\n",
       " </div>\n",
       " <br/>진정한 어른이란 무엇인 지 보여주는 영화 \n",
       " \t\t\t\n",
       " \t\t\t\n",
       " \t\t\t\n",
       " \t\t\t\t\n",
       " \t\t\t\t\n",
       " \t\t\t\t\n",
       " \t\t\t\t<a class=\"report\" href=\"#\" onclick=\"report('gorg****', 'sQ65AzrB6MMwH3eXZLxUzfiYAbK1XsWR7/9y6E3gn3s=', '진정한 어른이란 무엇인 지 보여주는 영화', '17331006', 'point_after');\" style=\"color:#8F8F8F\" title=\"새 창\">신고</a>\n",
       " </td>,\n",
       " <td class=\"title\">\n",
       " <a class=\"movie color_b\" href=\"?st=mcode&amp;sword=168298&amp;target=after\">지금 만나러 갑니다</a>\n",
       " <div class=\"list_netizen_score\">\n",
       " <span class=\"st_off\"><span class=\"st_on\" style=\"width:100%\">별점 - 총 10점 중</span></span><em>10</em>\n",
       " </div>\n",
       " <br/>계속 찾아서 보게 되는 영화! 정말 배우분들 연기를 정말 잘 하셔서 더욱 더 슬펐어요 정말 한번쯤 꼭 보시면 좋을 것 같은 영화입니다 감동적이고 볼 때 마다 눈물이 나오네요ㅋㅋㅎㅎ  개인적으로 너무 좋아하는 작품입니다 ㅎㅎ \n",
       " \t\t\t\n",
       " \t\t\t\n",
       " \t\t\t\n",
       " \t\t\t\t\n",
       " \t\t\t\t\n",
       " \t\t\t\t\n",
       " \t\t\t\t<a class=\"report\" href=\"#\" onclick=\"report('alic****', 'KO8X7JYhUaiVSMPdEx31hpTqvHY15H7ac/IGnJXo90s=', '계속 찾아서 보게 되는 영화! 정말 배우분들 연기를 정말 잘 하셔서 더욱 더 슬펐어요 정말 한번쯤 꼭 보시면 좋을 것 같은 영화입니다 감동적이고 볼 때 마다 눈물이 나오네요ㅋㅋㅎㅎ  개인적으로 너무 좋아하는 작품입니다 ㅎㅎ', '17331005', 'point_after');\" style=\"color:#8F8F8F\" title=\"새 창\">신고</a>\n",
       " </td>,\n",
       " <td class=\"title\">\n",
       " <a class=\"movie color_b\" href=\"?st=mcode&amp;sword=10335&amp;target=after\">석양의 무법자</a>\n",
       " <div class=\"list_netizen_score\">\n",
       " <span class=\"st_off\"><span class=\"st_on\" style=\"width:100%\">별점 - 총 10점 중</span></span><em>10</em>\n",
       " </div>\n",
       " <br/>어렸을때 부모님따라보고  커서보고 이제는 황혼에 접어들어서 봐도 음악도, 배우도,  연출도...모두 멋지고  감동적이다~~ \n",
       " \t\t\t\n",
       " \t\t\t\n",
       " \t\t\t\n",
       " \t\t\t\t\n",
       " \t\t\t\t\n",
       " \t\t\t\t\n",
       " \t\t\t\t<a class=\"report\" href=\"#\" onclick=\"report('sept****', 'PiuSC6PCDH6qmjNNW0lnlKqbPMPP75upOMsFa5ghCwQ=', '어렸을때 부모님따라보고  커서보고 이제는 황혼에 접어들어서 봐도 음악도, 배우도,  연출도...모두 멋지고  감동적이다~~', '17331004', 'point_after');\" style=\"color:#8F8F8F\" title=\"새 창\">신고</a>\n",
       " </td>,\n",
       " <td class=\"title\">\n",
       " <a class=\"movie color_b\" href=\"?st=mcode&amp;sword=181414&amp;target=after\">어스</a>\n",
       " <div class=\"list_netizen_score\">\n",
       " <span class=\"st_off\"><span class=\"st_on\" style=\"width:10%\">별점 - 총 10점 중</span></span><em>1</em>\n",
       " </div>\n",
       " <br/>쓰레기 OOO기 영화. \n",
       " \t\t\t\n",
       " \t\t\t\n",
       " \t\t\t\n",
       " \t\t\t\t\n",
       " \t\t\t\t\n",
       " \t\t\t\t\n",
       " \t\t\t\t<a class=\"report\" href=\"#\" onclick=\"report('fgsw****', 'M88O3mFa0z0TgBpL9Y7qmpDzxIlGykB93iHHMW7B0Xg=', '쓰레기 개쓰레기 영화.', '17331003', 'point_after');\" style=\"color:#8F8F8F\" title=\"새 창\">신고</a>\n",
       " </td>,\n",
       " <td class=\"title\">\n",
       " <a class=\"movie color_b\" href=\"?st=mcode&amp;sword=17159&amp;target=after\">포레스트 검프</a>\n",
       " <div class=\"list_netizen_score\">\n",
       " <span class=\"st_off\"><span class=\"st_on\" style=\"width:100%\">별점 - 총 10점 중</span></span><em>10</em>\n",
       " </div>\n",
       " <br/>“인생은 초콜릿 상자와도 같아” 검프 부인 \n",
       " \t\t\t\n",
       " \t\t\t\n",
       " \t\t\t\n",
       " \t\t\t\t\n",
       " \t\t\t\t\n",
       " \t\t\t\t\n",
       " \t\t\t\t<a class=\"report\" href=\"#\" onclick=\"report('qwe1****', 'c11F6KJZrHio5EJFyiQfjYQceBQIw3ghXRcExbe/yjI=', '“인생은 초콜릿 상자와도 같아” 검프 부인', '17331002', 'point_after');\" style=\"color:#8F8F8F\" title=\"새 창\">신고</a>\n",
       " </td>,\n",
       " <td class=\"title\">\n",
       " <a class=\"movie color_b\" href=\"?st=mcode&amp;sword=183866&amp;target=after\">담보</a>\n",
       " <div class=\"list_netizen_score\">\n",
       " <span class=\"st_off\"><span class=\"st_on\" style=\"width:100%\">별점 - 총 10점 중</span></span><em>10</em>\n",
       " </div>\n",
       " <br/>\n",
       " <a class=\"report\" href=\"#\" onclick=\"report('kore****', 'SFlJq/DATT3Gh9iPYY/S+DS0CoMXS8eD3zYKnYimMeY=', '', '17331001', 'point_after');\" style=\"color:#8F8F8F\" title=\"새 창\">신고</a>\n",
       " </td>,\n",
       " <td class=\"title\">\n",
       " <a class=\"movie color_b\" href=\"?st=mcode&amp;sword=164143&amp;target=after\">이웃사촌</a>\n",
       " <div class=\"list_netizen_score\">\n",
       " <span class=\"st_off\"><span class=\"st_on\" style=\"width:90%\">별점 - 총 10점 중</span></span><em>9</em>\n",
       " </div>\n",
       " <br/>\n",
       " <a class=\"report\" href=\"#\" onclick=\"report('gric****', 'nJgnA9a9P/tCKkq/jv4B3gMIpltK8e8rAylEDnATk3E=', '', '17331000', 'point_after');\" style=\"color:#8F8F8F\" title=\"새 창\">신고</a>\n",
       " </td>]"
      ]
     },
     "execution_count": 10,
     "metadata": {},
     "output_type": "execute_result"
    }
   ],
   "source": [
    "tds"
   ]
  },
  {
   "cell_type": "code",
   "execution_count": 11,
   "metadata": {},
   "outputs": [
    {
     "data": {
      "text/plain": [
       "<td class=\"title\">\n",
       "<a class=\"movie color_b\" href=\"?st=mcode&amp;sword=181414&amp;target=after\">어스</a>\n",
       "<div class=\"list_netizen_score\">\n",
       "<span class=\"st_off\"><span class=\"st_on\" style=\"width:20%\">별점 - 총 10점 중</span></span><em>2</em>\n",
       "</div>\n",
       "<br/>도대체무슨내용;;;; \n",
       "\t\t\t\n",
       "\t\t\t\n",
       "\t\t\t\n",
       "\t\t\t\t\n",
       "\t\t\t\t\n",
       "\t\t\t\t\n",
       "\t\t\t\t<a class=\"report\" href=\"#\" onclick=\"report('sd98****', '8T1neCygVcrqMpPr+wACP1503EsVF8uSb1OxxKFamnI=', '도대체무슨내용;;;;', '17331009', 'point_after');\" style=\"color:#8F8F8F\" title=\"새 창\">신고</a>\n",
       "</td>"
      ]
     },
     "execution_count": 11,
     "metadata": {},
     "output_type": "execute_result"
    }
   ],
   "source": [
    "tds[0]"
   ]
  },
  {
   "cell_type": "code",
   "execution_count": 22,
   "metadata": {},
   "outputs": [
    {
     "ename": "IndentationError",
     "evalue": "unexpected indent (<ipython-input-22-c11b3b7b5123>, line 8)",
     "output_type": "error",
     "traceback": [
      "\u001b[1;36m  File \u001b[1;32m\"<ipython-input-22-c11b3b7b5123>\"\u001b[1;36m, line \u001b[1;32m8\u001b[0m\n\u001b[1;33m    print(movie_title, score, comment, sep=\" / \")\u001b[0m\n\u001b[1;37m    ^\u001b[0m\n\u001b[1;31mIndentationError\u001b[0m\u001b[1;31m:\u001b[0m unexpected indent\n"
     ]
    }
   ],
   "source": [
    "comment_list=[]\n",
    "for td in tds: \n",
    "    movie_title = td.find().text.strip()\n",
    "    score = td.select_one().text.strip()\n",
    "    comment = td.select_one().next_sibling.strip()\n",
    "    comment_list.append((movie_title,score,comment))\n",
    "    \n",
    "     print(movie_title, score, comment, sep=\" / \")\n",
    "        #이 전까지는 진짜 이해되고, 여기서도 글자만 뽑아내는게 \n",
    "        #for in인거 알겠는데 문제는 아래를 모르겠어요... 'a', 'br' \n",
    "        #이런 것들이 뭔가요..? 에시처럼 나왕 한다는 건 이해가 가는데 정확히 \n",
    "        #'a' 등이 무슨 의미인지 모르겠고 실행이 안됩니다..도와주세요"
   ]
  },
  {
   "cell_type": "code",
   "execution_count": 15,
   "metadata": {},
   "outputs": [
    {
     "ename": "IndentationError",
     "evalue": "unexpected indent (<ipython-input-15-17475f31e37d>, line 2)",
     "output_type": "error",
     "traceback": [
      "\u001b[1;36m  File \u001b[1;32m\"<ipython-input-15-17475f31e37d>\"\u001b[1;36m, line \u001b[1;32m2\u001b[0m\n\u001b[1;33m    comment = td.select_one('br').next_sibling.strip()\u001b[0m\n\u001b[1;37m    ^\u001b[0m\n\u001b[1;31mIndentationError\u001b[0m\u001b[1;31m:\u001b[0m unexpected indent\n"
     ]
    }
   ],
   "source": []
  },
  {
   "cell_type": "code",
   "execution_count": null,
   "metadata": {},
   "outputs": [],
   "source": []
  }
 ],
 "metadata": {
  "kernelspec": {
   "display_name": "Python 3",
   "language": "python",
   "name": "python3"
  },
  "language_info": {
   "codemirror_mode": {
    "name": "ipython",
    "version": 3
   },
   "file_extension": ".py",
   "mimetype": "text/x-python",
   "name": "python",
   "nbconvert_exporter": "python",
   "pygments_lexer": "ipython3",
   "version": "3.8.5"
  }
 },
 "nbformat": 4,
 "nbformat_minor": 4
}
